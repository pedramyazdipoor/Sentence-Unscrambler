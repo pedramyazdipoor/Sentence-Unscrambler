{
  "cells": [
    {
      "metadata": {
        "trusted": true,
        "_kg_hide-output": true,
        "colab": {
          "base_uri": "https://localhost:8080/"
        },
        "id": "c88bzB5WCRF-",
        "outputId": "18359a00-322f-43ca-a0f0-1b2c15f094f8"
      },
      "cell_type": "code",
      "source": [
        "!pip install chart-studio"
      ],
      "execution_count": null,
      "outputs": [
        {
          "output_type": "stream",
          "name": "stdout",
          "text": [
            "Looking in indexes: https://pypi.org/simple, https://us-python.pkg.dev/colab-wheels/public/simple/\n",
            "Collecting chart-studio\n",
            "  Downloading chart_studio-1.1.0-py3-none-any.whl (64 kB)\n",
            "\u001b[2K     \u001b[90m━━━━━━━━━━━━━━━━━━━━━━━━━━━━━━━━━━━━━━━━\u001b[0m \u001b[32m64.4/64.4 KB\u001b[0m \u001b[31m7.2 MB/s\u001b[0m eta \u001b[36m0:00:00\u001b[0m\n",
            "\u001b[?25hRequirement already satisfied: requests in /usr/local/lib/python3.8/dist-packages (from chart-studio) (2.25.1)\n",
            "Requirement already satisfied: plotly in /usr/local/lib/python3.8/dist-packages (from chart-studio) (5.5.0)\n",
            "Requirement already satisfied: six in /usr/local/lib/python3.8/dist-packages (from chart-studio) (1.15.0)\n",
            "Collecting retrying>=1.3.3\n",
            "  Downloading retrying-1.3.4-py3-none-any.whl (11 kB)\n",
            "Requirement already satisfied: tenacity>=6.2.0 in /usr/local/lib/python3.8/dist-packages (from plotly->chart-studio) (8.1.0)\n",
            "Requirement already satisfied: chardet<5,>=3.0.2 in /usr/local/lib/python3.8/dist-packages (from requests->chart-studio) (4.0.0)\n",
            "Requirement already satisfied: idna<3,>=2.5 in /usr/local/lib/python3.8/dist-packages (from requests->chart-studio) (2.10)\n",
            "Requirement already satisfied: urllib3<1.27,>=1.21.1 in /usr/local/lib/python3.8/dist-packages (from requests->chart-studio) (1.24.3)\n",
            "Requirement already satisfied: certifi>=2017.4.17 in /usr/local/lib/python3.8/dist-packages (from requests->chart-studio) (2022.12.7)\n",
            "Installing collected packages: retrying, chart-studio\n",
            "Successfully installed chart-studio-1.1.0 retrying-1.3.4\n"
          ]
        }
      ]
    },
    {
      "metadata": {
        "_uuid": "8f2839f25d086af736a60e9eeb907d3b93b6e0e5",
        "_cell_guid": "b1076dfc-b9ad-4769-8c92-a6c4dae69d19",
        "trusted": true,
        "id": "XaoJHuSiCRGB"
      },
      "cell_type": "code",
      "source": [
        "import pandas as pd\n",
        "import tensorflow as tf\n",
        "import matplotlib.pyplot as plt\n",
        "from sklearn.model_selection import train_test_split\n",
        "import unicodedata\n",
        "import re\n",
        "import numpy as np\n",
        "import time\n",
        "import string\n",
        "import chart_studio.plotly\n",
        "import chart_studio.plotly as py\n",
        "from plotly.offline import init_notebook_mode, iplot\n",
        "import plotly.graph_objs as go\n",
        "import os"
      ],
      "execution_count": null,
      "outputs": []
    },
    {
      "cell_type": "code",
      "source": [
        "import pandas as pd\n",
        "from google.colab import drive\n",
        "drive.mount('/content/drive')"
      ],
      "metadata": {
        "id": "qm-JVn58CcpK",
        "colab": {
          "base_uri": "https://localhost:8080/"
        },
        "outputId": "a67ead59-eb5c-4d12-92a8-75aac83b466c"
      },
      "execution_count": null,
      "outputs": [
        {
          "output_type": "stream",
          "name": "stdout",
          "text": [
            "Mounted at /content/drive\n"
          ]
        }
      ]
    },
    {
      "cell_type": "code",
      "source": [
        "file_location = 'drive/MyDrive/train.csv'\n",
        "df = pd.read_csv(file_location)\n",
        "df.head()"
      ],
      "metadata": {
        "colab": {
          "base_uri": "https://localhost:8080/",
          "height": 206
        },
        "id": "WYvROhpxLWgo",
        "outputId": "1efe87e3-c82a-4f2d-8225-9cc3db29896b"
      },
      "execution_count": null,
      "outputs": [
        {
          "output_type": "execute_result",
          "data": {
            "text/plain": [
              "   Unnamed: 0                                           Shuffled  \\\n",
              "0           0  سالگی پاریس ژانسم حومه در سن ۱ گذشت ۱ در ۱ در ...   \n",
              "1           1  غریب حاتم دارالعرب محمد میلادی اول قاهره چاپ و...   \n",
              "2           2  فرودگاهی کد ایالات کد فهرست متحده فرودگاهی یات...   \n",
              "3           3  وحدتیه طبیعت به است کوه‌های شهر برای زیبا مناس...   \n",
              "4           4  سرباز در علاوه بر حادثه کشته این نیز دیگری گرد...   \n",
              "\n",
              "                                            Original  \\\n",
              "0   مرگ ژانسم در ۱ اوت ۱ در سن ۱ سالگی در حومه پا...   \n",
              "1  حاتم محمد بن غریب تاریخ عرب الهوله چاپ اول قاه...   \n",
              "2  کد فرودگاهی یاتا کد فرودگاهی ایکائو فهرست فرود...   \n",
              "3  کوه‌های زیبا کوه‌های شهر وحدتیه به دلیل پدیده‌...   \n",
              "4  در این حادثه علاوه بر یک کشته سرباز دیگری نیز ...   \n",
              "\n",
              "                                              Target  \n",
              "0    [14, 2, 4, 6, 13, 6, 4, 5, 6, 0, 4, 3, 1, 4, 7]  \n",
              "1  [1, 3, 10, 0, 15, 14, 12, 7, 5, 6, 2, 13, 8, 1...  \n",
              "2                 [1, 0, 7, 1, 0, 10, 4, 9, 2, 5, 8]  \n",
              "3      [4, 7, 4, 5, 0, 2, 9, 10, 11, 8, 6, 1, 13, 3]  \n",
              "4             [1, 6, 4, 2, 3, 10, 5, 0, 8, 7, 11, 9]  "
            ],
            "text/html": [
              "\n",
              "  <div id=\"df-e02030f5-64c3-4808-b78a-e6d1fcd93f14\">\n",
              "    <div class=\"colab-df-container\">\n",
              "      <div>\n",
              "<style scoped>\n",
              "    .dataframe tbody tr th:only-of-type {\n",
              "        vertical-align: middle;\n",
              "    }\n",
              "\n",
              "    .dataframe tbody tr th {\n",
              "        vertical-align: top;\n",
              "    }\n",
              "\n",
              "    .dataframe thead th {\n",
              "        text-align: right;\n",
              "    }\n",
              "</style>\n",
              "<table border=\"1\" class=\"dataframe\">\n",
              "  <thead>\n",
              "    <tr style=\"text-align: right;\">\n",
              "      <th></th>\n",
              "      <th>Unnamed: 0</th>\n",
              "      <th>Shuffled</th>\n",
              "      <th>Original</th>\n",
              "      <th>Target</th>\n",
              "    </tr>\n",
              "  </thead>\n",
              "  <tbody>\n",
              "    <tr>\n",
              "      <th>0</th>\n",
              "      <td>0</td>\n",
              "      <td>سالگی پاریس ژانسم حومه در سن ۱ گذشت ۱ در ۱ در ...</td>\n",
              "      <td>مرگ ژانسم در ۱ اوت ۱ در سن ۱ سالگی در حومه پا...</td>\n",
              "      <td>[14, 2, 4, 6, 13, 6, 4, 5, 6, 0, 4, 3, 1, 4, 7]</td>\n",
              "    </tr>\n",
              "    <tr>\n",
              "      <th>1</th>\n",
              "      <td>1</td>\n",
              "      <td>غریب حاتم دارالعرب محمد میلادی اول قاهره چاپ و...</td>\n",
              "      <td>حاتم محمد بن غریب تاریخ عرب الهوله چاپ اول قاه...</td>\n",
              "      <td>[1, 3, 10, 0, 15, 14, 12, 7, 5, 6, 2, 13, 8, 1...</td>\n",
              "    </tr>\n",
              "    <tr>\n",
              "      <th>2</th>\n",
              "      <td>2</td>\n",
              "      <td>فرودگاهی کد ایالات کد فهرست متحده فرودگاهی یات...</td>\n",
              "      <td>کد فرودگاهی یاتا کد فرودگاهی ایکائو فهرست فرود...</td>\n",
              "      <td>[1, 0, 7, 1, 0, 10, 4, 9, 2, 5, 8]</td>\n",
              "    </tr>\n",
              "    <tr>\n",
              "      <th>3</th>\n",
              "      <td>3</td>\n",
              "      <td>وحدتیه طبیعت به است کوه‌های شهر برای زیبا مناس...</td>\n",
              "      <td>کوه‌های زیبا کوه‌های شهر وحدتیه به دلیل پدیده‌...</td>\n",
              "      <td>[4, 7, 4, 5, 0, 2, 9, 10, 11, 8, 6, 1, 13, 3]</td>\n",
              "    </tr>\n",
              "    <tr>\n",
              "      <th>4</th>\n",
              "      <td>4</td>\n",
              "      <td>سرباز در علاوه بر حادثه کشته این نیز دیگری گرد...</td>\n",
              "      <td>در این حادثه علاوه بر یک کشته سرباز دیگری نیز ...</td>\n",
              "      <td>[1, 6, 4, 2, 3, 10, 5, 0, 8, 7, 11, 9]</td>\n",
              "    </tr>\n",
              "  </tbody>\n",
              "</table>\n",
              "</div>\n",
              "      <button class=\"colab-df-convert\" onclick=\"convertToInteractive('df-e02030f5-64c3-4808-b78a-e6d1fcd93f14')\"\n",
              "              title=\"Convert this dataframe to an interactive table.\"\n",
              "              style=\"display:none;\">\n",
              "        \n",
              "  <svg xmlns=\"http://www.w3.org/2000/svg\" height=\"24px\"viewBox=\"0 0 24 24\"\n",
              "       width=\"24px\">\n",
              "    <path d=\"M0 0h24v24H0V0z\" fill=\"none\"/>\n",
              "    <path d=\"M18.56 5.44l.94 2.06.94-2.06 2.06-.94-2.06-.94-.94-2.06-.94 2.06-2.06.94zm-11 1L8.5 8.5l.94-2.06 2.06-.94-2.06-.94L8.5 2.5l-.94 2.06-2.06.94zm10 10l.94 2.06.94-2.06 2.06-.94-2.06-.94-.94-2.06-.94 2.06-2.06.94z\"/><path d=\"M17.41 7.96l-1.37-1.37c-.4-.4-.92-.59-1.43-.59-.52 0-1.04.2-1.43.59L10.3 9.45l-7.72 7.72c-.78.78-.78 2.05 0 2.83L4 21.41c.39.39.9.59 1.41.59.51 0 1.02-.2 1.41-.59l7.78-7.78 2.81-2.81c.8-.78.8-2.07 0-2.86zM5.41 20L4 18.59l7.72-7.72 1.47 1.35L5.41 20z\"/>\n",
              "  </svg>\n",
              "      </button>\n",
              "      \n",
              "  <style>\n",
              "    .colab-df-container {\n",
              "      display:flex;\n",
              "      flex-wrap:wrap;\n",
              "      gap: 12px;\n",
              "    }\n",
              "\n",
              "    .colab-df-convert {\n",
              "      background-color: #E8F0FE;\n",
              "      border: none;\n",
              "      border-radius: 50%;\n",
              "      cursor: pointer;\n",
              "      display: none;\n",
              "      fill: #1967D2;\n",
              "      height: 32px;\n",
              "      padding: 0 0 0 0;\n",
              "      width: 32px;\n",
              "    }\n",
              "\n",
              "    .colab-df-convert:hover {\n",
              "      background-color: #E2EBFA;\n",
              "      box-shadow: 0px 1px 2px rgba(60, 64, 67, 0.3), 0px 1px 3px 1px rgba(60, 64, 67, 0.15);\n",
              "      fill: #174EA6;\n",
              "    }\n",
              "\n",
              "    [theme=dark] .colab-df-convert {\n",
              "      background-color: #3B4455;\n",
              "      fill: #D2E3FC;\n",
              "    }\n",
              "\n",
              "    [theme=dark] .colab-df-convert:hover {\n",
              "      background-color: #434B5C;\n",
              "      box-shadow: 0px 1px 3px 1px rgba(0, 0, 0, 0.15);\n",
              "      filter: drop-shadow(0px 1px 2px rgba(0, 0, 0, 0.3));\n",
              "      fill: #FFFFFF;\n",
              "    }\n",
              "  </style>\n",
              "\n",
              "      <script>\n",
              "        const buttonEl =\n",
              "          document.querySelector('#df-e02030f5-64c3-4808-b78a-e6d1fcd93f14 button.colab-df-convert');\n",
              "        buttonEl.style.display =\n",
              "          google.colab.kernel.accessAllowed ? 'block' : 'none';\n",
              "\n",
              "        async function convertToInteractive(key) {\n",
              "          const element = document.querySelector('#df-e02030f5-64c3-4808-b78a-e6d1fcd93f14');\n",
              "          const dataTable =\n",
              "            await google.colab.kernel.invokeFunction('convertToInteractive',\n",
              "                                                     [key], {});\n",
              "          if (!dataTable) return;\n",
              "\n",
              "          const docLinkHtml = 'Like what you see? Visit the ' +\n",
              "            '<a target=\"_blank\" href=https://colab.research.google.com/notebooks/data_table.ipynb>data table notebook</a>'\n",
              "            + ' to learn more about interactive tables.';\n",
              "          element.innerHTML = '';\n",
              "          dataTable['output_type'] = 'display_data';\n",
              "          await google.colab.output.renderOutput(dataTable, element);\n",
              "          const docLink = document.createElement('div');\n",
              "          docLink.innerHTML = docLinkHtml;\n",
              "          element.appendChild(docLink);\n",
              "        }\n",
              "      </script>\n",
              "    </div>\n",
              "  </div>\n",
              "  "
            ]
          },
          "metadata": {},
          "execution_count": 4
        }
      ]
    },
    {
      "cell_type": "code",
      "source": [
        "original = df['Original']\n",
        "shuffled = df['Shuffled']"
      ],
      "metadata": {
        "id": "z2qLBPHTLpcO"
      },
      "execution_count": null,
      "outputs": []
    },
    {
      "metadata": {
        "trusted": true,
        "id": "IzxcOot8CRGE"
      },
      "cell_type": "code",
      "source": [
        "exclude = set(string.punctuation) # Set of all special characters\n",
        "remove_digits = str.maketrans('', '', string.digits) # Set of all digits"
      ],
      "execution_count": null,
      "outputs": []
    },
    {
      "cell_type": "code",
      "source": [
        "def preprocess_sentences(sent):\n",
        "  wierd_pattern = re.compile(\"[\"\n",
        "      u\"\\U0001F600-\\U0001F64F\"  # emojis\n",
        "      u\"\\U0001F300-\\U0001F5FF\"  # symbols & pictographs\n",
        "      u\"\\U0001F680-\\U0001F6FF\"  # transport & map symbols\n",
        "      u\"\\U0001F1E0-\\U0001F1FF\"  # flags (iOS)\n",
        "      u\"\\U00002702-\\U000027B0\"\n",
        "      u\"\\U000024C2-\\U0001F251\"\n",
        "      u\"\\U0001f926-\\U0001f937\"\n",
        "      u'\\U00010000-\\U0010ffff'\n",
        "      u\"\\u200d\"\n",
        "      u\"\\u2640-\\u2642\"\n",
        "      u\"\\u2600-\\u2B55\"\n",
        "      u\"\\u23cf\" #Unicode Character 'EJECT SYMBOL'\n",
        "      u\"\\u23e9\" #Unicode Character 'BLACK RIGHT-POINTING DOUBLE TRIANGLE'\n",
        "      u\"\\u231a\" #Unicode Character 'WATCH'\n",
        "      u\"\\u3030\" #Unicode Character 'WAVY DASH'\n",
        "      u\"\\ufe0f\" #Unicode VARIATION SELECTOR-16\n",
        "      u\"\\u2069\" #Unicode Character 'POP DIRECTIONAL ISOLATE'\n",
        "      u\"\\u2066\" #Unicode Character 'LEFT-TO-RIGHT ISOLATE'\n",
        "      u\"\\u2068\" #Unicode Character 'FIRST STRONG ISOLATE'\n",
        "      u\"\\u2067\" #Unicode Character 'RIGHT-TO-LEFT ISOLATE'\n",
        "      \"]+\", flags=re.UNICODE)\n",
        "\n",
        "  sent = wierd_pattern.sub(r'', sent)\n",
        "  sent = re.sub(\"\\u200c\", \" \", sent)\n",
        "  sent = re.sub(\"'\", '', sent)\n",
        "  sent = ''.join(ch for ch in sent if ch not in exclude)\n",
        "  sent = sent.translate(remove_digits)\n",
        "  sent = sent.strip()\n",
        "  sent = re.sub(\" +\", \" \", sent)\n",
        "  sent = '<شروع> ' + sent + ' <پایان>' # add <start> and <end> tokens\n",
        "  return sent"
      ],
      "metadata": {
        "id": "FRv1oGmsM057"
      },
      "execution_count": null,
      "outputs": []
    },
    {
      "cell_type": "code",
      "source": [
        "print(len(shuffled))\n",
        "print(len(original))"
      ],
      "metadata": {
        "id": "xFFhnlhMqekZ",
        "outputId": "efb381e9-dcf7-4da5-fae6-1d713a69ddd0",
        "colab": {
          "base_uri": "https://localhost:8080/"
        }
      },
      "execution_count": null,
      "outputs": [
        {
          "output_type": "stream",
          "name": "stdout",
          "text": [
            "1879299\n",
            "1879299\n"
          ]
        }
      ]
    },
    {
      "cell_type": "code",
      "source": [
        "sent_pairs = []\n",
        "for i in range(0,len(original)):\n",
        "  sent_pair = []\n",
        "  shuffled_sent = preprocess_sentences(shuffled[i])\n",
        "  sent_pair.append(shuffled_sent)\n",
        "  original_sent = preprocess_sentences(original[i])\n",
        "  sent_pair.append(original_sent)\n",
        "  if len(original_sent.split()) < 11 and len(shuffled_sent.split()) < 11:\n",
        "    sent_pairs.append(sent_pair)\n",
        "\n",
        "print(len(sent_pairs))"
      ],
      "metadata": {
        "colab": {
          "base_uri": "https://localhost:8080/"
        },
        "id": "-hyKAc5TN8d_",
        "outputId": "711544af-232a-4364-aed6-d0026a4dade9"
      },
      "execution_count": null,
      "outputs": [
        {
          "output_type": "stream",
          "name": "stdout",
          "text": [
            "561671\n"
          ]
        }
      ]
    },
    {
      "metadata": {
        "trusted": true,
        "id": "dFPh4BpaCRGH"
      },
      "cell_type": "code",
      "source": [
        "class LanguageIndex():\n",
        "    def __init__(self, lang):\n",
        "        self.lang = lang\n",
        "        self.word2idx = {}\n",
        "        self.idx2word = {}\n",
        "        self.vocab = set()\n",
        "\n",
        "        self.create_index()\n",
        "\n",
        "    def create_index(self):\n",
        "        for phrase in self.lang:\n",
        "            self.vocab.update(phrase.split(' '))\n",
        "\n",
        "        self.vocab = sorted(self.vocab)\n",
        "\n",
        "        self.word2idx['<پد>'] = 0\n",
        "        for index, word in enumerate(self.vocab):\n",
        "            self.word2idx[word] = index + 1\n",
        "\n",
        "        for word, index in self.word2idx.items():\n",
        "            self.idx2word[index] = word"
      ],
      "execution_count": null,
      "outputs": []
    },
    {
      "metadata": {
        "trusted": true,
        "id": "6sx6NBaLCRGI"
      },
      "cell_type": "code",
      "source": [
        "def max_length(tensor):\n",
        "    return max(len(t) for t in tensor)"
      ],
      "execution_count": null,
      "outputs": []
    },
    {
      "metadata": {
        "id": "Jnd_75DGCRGI"
      },
      "cell_type": "markdown",
      "source": [
        "### Tokenization and Padding"
      ]
    },
    {
      "metadata": {
        "trusted": true,
        "id": "OsAoFyeHCRGI"
      },
      "cell_type": "code",
      "source": [
        "def load_dataset(pairs, num_examples):\n",
        "    # pairs => already created cleaned input, output pairs\n",
        "    # index language using the class defined above\n",
        "    inp_lang = LanguageIndex(en for en, ma in pairs)\n",
        "    targ_lang = LanguageIndex(ma for en, ma in pairs)\n",
        "    input_tensor = [[inp_lang.word2idx[s] for s in en.split(' ')] for en, ma in pairs]\n",
        "    target_tensor = [[targ_lang.word2idx[s] for s in ma.split(' ')] for en, ma in pairs]\n",
        "    # Calculate max_length of input and output tensor\n",
        "    # Here, we'll set those to the longest sentence in the dataset\n",
        "    max_length_inp, max_length_tar = max_length(input_tensor), max_length(target_tensor)\n",
        "    # Padding the input and output tensor to the maximum length\n",
        "    input_tensor = tf.keras.preprocessing.sequence.pad_sequences(input_tensor,\n",
        "                                                                 maxlen=max_length_inp,\n",
        "                                                                 padding='post')\n",
        "    target_tensor = tf.keras.preprocessing.sequence.pad_sequences(target_tensor,\n",
        "                                                                  maxlen=max_length_tar,\n",
        "                                                                  padding='post')\n",
        "    return input_tensor, target_tensor, inp_lang, targ_lang, max_length_inp, max_length_tar"
      ],
      "execution_count": null,
      "outputs": []
    },
    {
      "metadata": {
        "trusted": true,
        "id": "KDC-MWNMCRGJ"
      },
      "cell_type": "code",
      "source": [
        "input_tensor, target_tensor, inp_lang, targ_lang, max_length_inp, max_length_targ = load_dataset(sent_pairs, len(sent_pairs))"
      ],
      "execution_count": null,
      "outputs": []
    },
    {
      "metadata": {
        "trusted": true,
        "colab": {
          "base_uri": "https://localhost:8080/"
        },
        "id": "AcKtvUn0CRGJ",
        "outputId": "f24d15cf-2ab1-46b2-9472-14d670e379a7"
      },
      "cell_type": "code",
      "source": [
        "input_tensor_train, input_tensor_tmp, target_tensor_train, target_tensor_tmp = train_test_split(input_tensor, target_tensor, test_size=0.05, random_state = 101)\n",
        "input_tensor_val, input_tensor_test, target_tensor_val, target_tensor_test = train_test_split(input_tensor_tmp, target_tensor_tmp, test_size=0.1, random_state = 102)\n",
        "len(input_tensor_train), len(target_tensor_train), len(input_tensor_val), len(target_tensor_val),len(input_tensor_test), len(target_tensor_test)"
      ],
      "execution_count": null,
      "outputs": [
        {
          "output_type": "execute_result",
          "data": {
            "text/plain": [
              "(533587, 533587, 25275, 25275, 2809, 2809)"
            ]
          },
          "metadata": {},
          "execution_count": 14
        }
      ]
    },
    {
      "metadata": {
        "trusted": true,
        "id": "qRZBOov3CRGK"
      },
      "cell_type": "code",
      "source": [
        "BUFFER_SIZE_TRAIN = len(input_tensor_train)\n",
        "BUFFER_SIZE_VAL = len(input_tensor_val)\n",
        "BUFFER_SIZE_TEST = len(input_tensor_test)\n",
        "BATCH_SIZE = 1024\n",
        "dr = 0.33\n",
        "N_BATCH_Train = BUFFER_SIZE_TRAIN//BATCH_SIZE\n",
        "N_BATCH_Test = BUFFER_SIZE_TEST//BATCH_SIZE\n",
        "embedding_dim = 256\n",
        "units = 256\n",
        "vocab_inp_size = len(inp_lang.word2idx)\n",
        "vocab_tar_size = len(targ_lang.word2idx)\n",
        "\n",
        "dataset_train = tf.data.Dataset.from_tensor_slices((input_tensor_train, target_tensor_train)).shuffle(BUFFER_SIZE_TRAIN)\n",
        "dataset_train = dataset_train.batch(BATCH_SIZE, drop_remainder=True)\n",
        "\n",
        "dataset_val = tf.data.Dataset.from_tensor_slices((input_tensor_val, target_tensor_val)).shuffle(BUFFER_SIZE_VAL)\n",
        "dataset_val = dataset_val.batch(BATCH_SIZE, drop_remainder=True)\n",
        "\n",
        "dataset_test = tf.data.Dataset.from_tensor_slices((input_tensor_test, target_tensor_test))\n",
        "dataset_test = dataset_test.batch(1, drop_remainder=True)"
      ],
      "execution_count": null,
      "outputs": []
    },
    {
      "metadata": {
        "trusted": true,
        "id": "-s4pluXuCRGL"
      },
      "cell_type": "code",
      "source": [
        "def gru(units):\n",
        "\n",
        "    return tf.keras.layers.GRU(units,\n",
        "                                   return_sequences=True,\n",
        "                                   return_state=True,\n",
        "                                   recurrent_activation='sigmoid',\n",
        "                                   recurrent_initializer='glorot_uniform')"
      ],
      "execution_count": null,
      "outputs": []
    },
    {
      "metadata": {
        "id": "zz5dq9NoCRGL"
      },
      "cell_type": "markdown",
      "source": [
        "The input to the encoder will be the Scrambled words and the output will be the hidden state and cell state of the GRU."
      ]
    },
    {
      "cell_type": "code",
      "source": [
        "import keras\n",
        "from keras.layers import Dense, Flatten, Conv1D, BatchNormalization, Dropout, MaxPooling1D\n",
        "\n",
        "class Encoder(tf.keras.Model):\n",
        "    def __init__(self, vocab_size, embedding_dim, batch_sz, dr, dec_units):\n",
        "        super(Encoder, self).__init__()\n",
        "        self.dec_units = dec_units\n",
        "        self.batch_sz = batch_sz\n",
        "        self.dr = dr\n",
        "        self.embedding = tf.keras.layers.Embedding(vocab_size, embedding_dim)\n",
        "        self.conv1 = Conv1D(filters = 512, kernel_size = 6, padding='same', activation='relu')\n",
        "        self.conv2 = Conv1D(filters = 256, kernel_size = 6, padding='same', activation='relu')\n",
        "        self.conv3 = Conv1D(filters = 128, kernel_size = 6, padding='same', activation='relu')\n",
        "        self.pooling = MaxPooling1D(pool_size = 2)\n",
        "        self.fc = Dense(self.dec_units, activation = 'linear')\n",
        "        self.flatten = Flatten()\n",
        "        self.batch_norm1 = BatchNormalization()\n",
        "        self.batch_norm2 = BatchNormalization()\n",
        "        self.batch_norm3 = BatchNormalization()\n",
        "        self.dropout = Dropout(self.dr)\n",
        "\n",
        "    def call(self, x):\n",
        "        #print('x',x.shape)\n",
        "        a = self.embedding(x)\n",
        "        #print('a',a.shape)\n",
        "        y = self.conv1(a)\n",
        "        #print('y',y.shape)\n",
        "        b = self.pooling(y)\n",
        "        #print('b',b.shape)\n",
        "        #c = self.batch_norm1(b)\n",
        "        #print('c',c.shape)\n",
        "        d = self.dropout(b)\n",
        "        #print('d',d.shape)\n",
        "        #########################\n",
        "        z = self.conv2(d)\n",
        "        #print('z',z.shape)\n",
        "        e = self.pooling(z)\n",
        "        #print('e',e.shape)\n",
        "        #f = self.batch_norm2(e)\n",
        "        #print('f',f.shape)\n",
        "        g = self.dropout(e)\n",
        "        #print('g',g.shape)\n",
        "        #########################\n",
        "        h = self.conv3(g)\n",
        "        #print('h',h.shape)\n",
        "        i = self.pooling(h)\n",
        "        #print('i',i.shape)\n",
        "        #j = self.batch_norm3(i)\n",
        "        #print('j',j.shape)\n",
        "        k = self.dropout(i)\n",
        "        #print('k',k.shape)\n",
        "        l = self.flatten(k)\n",
        "        #print('l',l.shape)\n",
        "        m = self.fc(l)\n",
        "        #print('m',m.shape)\n",
        "        return m"
      ],
      "metadata": {
        "id": "W529hVIVvU4A"
      },
      "execution_count": null,
      "outputs": []
    },
    {
      "cell_type": "code",
      "source": [
        "class Decoder(tf.keras.Model):\n",
        "    def __init__(self, vocab_size, embedding_dim, dec_units, batch_sz, dr):\n",
        "        super(Decoder, self).__init__()\n",
        "        self.batch_sz = batch_sz\n",
        "        self.dec_units = dec_units\n",
        "        self.embedding = tf.keras.layers.Embedding(vocab_size, embedding_dim)\n",
        "        self.gru = gru(self.dec_units)\n",
        "        self.fc = tf.keras.layers.Dense(vocab_size)\n",
        "        self.dr = dr\n",
        "        self.dropout = tf.keras.layers.Dropout(dr)\n",
        "\n",
        "    def call(self, x, hidden):\n",
        "\n",
        "        x = self.embedding(x)\n",
        "        x = self.dropout(x)\n",
        "        output, state = self.gru(x, initial_state = hidden)\n",
        "        output, state = self.dropout(output), self.dropout(state)\n",
        "        output = tf.reshape(output, (-1, output.shape[2]))\n",
        "        x = self.fc(output)\n",
        "        return self.dropout(x), self.dropout(state)\n",
        "\n",
        "    def initialize_hidden_state(self):\n",
        "        return tf.zeros((self.batch_sz, self.dec_units))"
      ],
      "metadata": {
        "id": "c0c0AdFMvZWY"
      },
      "execution_count": null,
      "outputs": []
    },
    {
      "metadata": {
        "trusted": true,
        "id": "87-iPXvzCRGM"
      },
      "cell_type": "code",
      "source": [
        "encoder = Encoder(vocab_inp_size, embedding_dim, BATCH_SIZE, dr, units)\n",
        "decoder = Decoder(vocab_tar_size, embedding_dim, units, BATCH_SIZE, dr)"
      ],
      "execution_count": null,
      "outputs": []
    },
    {
      "metadata": {
        "trusted": true,
        "id": "CQD0O9e8CRGN"
      },
      "cell_type": "code",
      "source": [
        "optimizer = tf.optimizers.Adam()\n",
        "\n",
        "def loss_function(real, pred):\n",
        "    mask = 1 - np.equal(real, 0)\n",
        "    loss_ = tf.nn.sparse_softmax_cross_entropy_with_logits(labels=real, logits=pred) * mask\n",
        "    return tf.reduce_mean(loss_)"
      ],
      "execution_count": null,
      "outputs": []
    },
    {
      "cell_type": "code",
      "source": [
        "checkpoint_dir = '/content/drive/MyDrive/'\n",
        "checkpoint_prefix = os.path.join(checkpoint_dir, \"ckpt\")\n",
        "checkpoint = tf.train.Checkpoint(optimizer=optimizer,\n",
        "                                 encoder=encoder,\n",
        "                                 decoder=decoder)"
      ],
      "metadata": {
        "id": "sDh_9wHWQoty"
      },
      "execution_count": null,
      "outputs": []
    },
    {
      "metadata": {
        "id": "4_U5JIyHCRGN"
      },
      "cell_type": "markdown",
      "source": [
        "### Training the Model"
      ]
    },
    {
      "metadata": {
        "trusted": true,
        "colab": {
          "base_uri": "https://localhost:8080/",
          "height": 959
        },
        "id": "RdcaqjSyCRGN",
        "outputId": "172954df-e298-4cbe-b627-294b05f3183f"
      },
      "cell_type": "code",
      "source": [
        "import torch\n",
        "EPOCHS = 4\n",
        "m = torch.nn.Softmax(dim=1)\n",
        "train_loss, test_loss = [], []\n",
        "\n",
        "for epoch in range(EPOCHS):\n",
        "\n",
        "    start = time.time()\n",
        "    total_loss_train, total_loss_test = 0, 0\n",
        "\n",
        "    for (batch, (inp, targ)) in enumerate(dataset_train):\n",
        "        loss = 0\n",
        "\n",
        "        with tf.GradientTape() as tape:\n",
        "            enc_hidden = encoder(inp)\n",
        "            dec_hidden = enc_hidden\n",
        "            dec_input = tf.expand_dims([targ_lang.word2idx['<شروع>']] * BATCH_SIZE, 1)\n",
        "\n",
        "            # Teacher forcing\n",
        "            for t in range(1, targ.shape[1]):\n",
        "\n",
        "                #predictions, dec_hidden ,_ = decoder(dec_input, dec_hidden, enc_output)\n",
        "                predictions, dec_hidden = decoder(dec_input, dec_hidden)\n",
        "                loss += loss_function(targ[:, t], predictions)\n",
        "                # using teacher forcing\n",
        "                #dec_input = tf.expand_dims(targ[:, t], 1)\n",
        "                dec_input = tf.expand_dims(np.argmax(predictions, axis=-1), 1)\n",
        "\n",
        "        batch_loss = (loss / int(targ.shape[1]))\n",
        "        total_loss_train += batch_loss\n",
        "        variables = encoder.variables + decoder.variables\n",
        "        gradients = tape.gradient(loss, variables)\n",
        "        optimizer.apply_gradients(zip(gradients, variables))\n",
        "\n",
        "        if batch % 100 == 0:\n",
        "            print('Epoch {} Batch {} Training Loss {:.4f}'.format(epoch + 1,\n",
        "                                                         batch,\n",
        "                                                         batch_loss.numpy()))\n",
        "    # saving model every epoch\n",
        "    checkpoint.save(file_prefix = checkpoint_prefix)\n",
        "\n",
        "    print('Epoch {} Training Loss {:.4f}'.format(epoch + 1,\n",
        "                                        total_loss_train / N_BATCH_Train))\n",
        "\n",
        "    train_loss.append(total_loss_train/N_BATCH_Train)\n",
        "###================================= Validation ==============================================================================\n",
        "    for (batch, (inp, targ)) in enumerate(dataset_val):\n",
        "      l = 0\n",
        "      enc_hidden = encoder(inp)\n",
        "      dec_hidden = enc_hidden\n",
        "      dec_input = tf.expand_dims([targ_lang.word2idx['<شروع>']] * BATCH_SIZE, 1)\n",
        "\n",
        "      for t in range(1, targ.shape[1]):\n",
        "          #predictions, dec_hidden, _ = decoder(dec_input, dec_hidden, enc_output)\n",
        "          predictions, dec_hidden = decoder(dec_input, dec_hidden)\n",
        "          l += loss_function(targ[:, t], predictions)\n",
        "          dec_input = tf.expand_dims(np.argmax(predictions, axis=-1), 1)\n",
        "      total_loss_test += (l / int(targ.shape[1])).numpy()\n",
        "    test_loss.append(total_loss_test/N_BATCH_Test)\n",
        "    print('Epoch {} Validation Loss {:.4f}'.format(epoch + 1, total_loss_test / N_BATCH_Test))\n",
        "    print('Time taken for 1 epoch {} sec\\n'.format(time.time() - start))\n",
        "\n",
        "epochs = range(1,EPOCHS + 1)\n",
        "plt.plot(epochs, train_loss, label='Training Loss')\n",
        "plt.plot(epochs, test_loss, label='Validation Loss')\n",
        "plt.legend()\n",
        "plt.show()"
      ],
      "execution_count": null,
      "outputs": [
        {
          "output_type": "stream",
          "name": "stdout",
          "text": [
            "Epoch 1 Batch 0 Training Loss 6.8780\n",
            "Epoch 1 Batch 100 Training Loss 3.2908\n",
            "Epoch 1 Batch 200 Training Loss 2.8557\n",
            "Epoch 1 Batch 300 Training Loss 2.6456\n",
            "Epoch 1 Batch 400 Training Loss 2.3949\n",
            "Epoch 1 Batch 500 Training Loss 2.1143\n",
            "Epoch 1 Training Loss 2.8979\n",
            "Epoch 1 Validation Loss 26.2264\n",
            "Time taken for 1 epoch 2280.6460087299347 sec\n",
            "\n",
            "Epoch 2 Batch 0 Training Loss 2.0867\n",
            "Epoch 2 Batch 100 Training Loss 1.9781\n",
            "Epoch 2 Batch 200 Training Loss 1.8666\n",
            "Epoch 2 Batch 300 Training Loss 1.8789\n",
            "Epoch 2 Batch 400 Training Loss 1.7312\n",
            "Epoch 2 Batch 500 Training Loss 1.7052\n",
            "Epoch 2 Training Loss 1.8864\n",
            "Epoch 2 Validation Loss 19.9800\n",
            "Time taken for 1 epoch 2275.0336282253265 sec\n",
            "\n",
            "Epoch 3 Batch 0 Training Loss 1.5176\n",
            "Epoch 3 Batch 100 Training Loss 1.5777\n",
            "Epoch 3 Batch 200 Training Loss 1.4348\n",
            "Epoch 3 Batch 300 Training Loss 1.3495\n",
            "Epoch 3 Batch 400 Training Loss 1.3189\n",
            "Epoch 3 Batch 500 Training Loss 1.3094\n",
            "Epoch 3 Training Loss 1.4156\n",
            "Epoch 3 Validation Loss 15.9880\n",
            "Time taken for 1 epoch 2243.188463449478 sec\n",
            "\n",
            "Epoch 4 Batch 0 Training Loss 1.1083\n",
            "Epoch 4 Batch 100 Training Loss 1.2444\n",
            "Epoch 4 Batch 200 Training Loss 1.0974\n",
            "Epoch 4 Batch 300 Training Loss 1.0840\n",
            "Epoch 4 Batch 400 Training Loss 1.0134\n",
            "Epoch 4 Batch 500 Training Loss 0.9950\n",
            "Epoch 4 Training Loss 1.0825\n",
            "Epoch 4 Validation Loss 13.1153\n",
            "Time taken for 1 epoch 2296.986077785492 sec\n",
            "\n"
          ]
        },
        {
          "output_type": "display_data",
          "data": {
            "text/plain": [
              "<Figure size 432x288 with 1 Axes>"
            ],
            "image/png": "[encoded data removed]"
          },
          "metadata": {
            "needs_background": "light"
          }
        }
      ]
    },
    {
      "cell_type": "code",
      "source": [
        "sent_gen_list = []\n",
        "for (batch, (inp, targ)) in enumerate(dataset_test):\n",
        "\n",
        "      enc_hidden = encoder(inp)\n",
        "      dec_hidden = enc_hidden\n",
        "      dec_input = tf.expand_dims([targ_lang.word2idx['<شروع>']] * 1, 1)\n",
        "      words = targ[0].numpy()\n",
        "      indexes = []\n",
        "      temp_sent = ''\n",
        "      temp_act = ''\n",
        "\n",
        "      for j in range(0,10):\n",
        "        if words[j] != 0 and words[j] != 2 and words[j] != 3:\n",
        "          indexes.append(words[j])\n",
        "\n",
        "      for t in range(0, len(words)):\n",
        "          predictions, dec_hidden = decoder(dec_input, dec_hidden)\n",
        "          res_list = [predictions[0][i].numpy() for i in indexes]\n",
        "          dec_input = tf.convert_to_tensor([indexes[np.argmax(res_list)]])\n",
        "          dec_input = tf.expand_dims(tf.convert_to_tensor(dec_input), 1,1)\n",
        "          temp_sent += inp_lang.idx2word[indexes[np.argmax(res_list)]] + ' '\n",
        "          indexes.remove(indexes[np.argmax(res_list)])\n",
        "          if len(indexes) <= 0 :\n",
        "            break\n",
        "      sent_gen_list.append([temp_sent])\n",
        "\n",
        "print(sent_gen_list[:2])"
      ],
      "metadata": {
        "colab": {
          "base_uri": "https://localhost:8080/"
        },
        "id": "L6-th3tel3zN",
        "outputId": "8c32380c-5399-48b9-c995-6779ae451d23"
      },
      "execution_count": 5,
      "outputs": [
        {
          "output_type": "stream",
          "name": "stdout",
          "text": [
            "[['آریزونا در ۱ میلادی '], ['آتش بازی روی برج ایفل در جشن باستیل ']]\n"
          ]
        }
      ]
    },
    {
      "cell_type": "code",
      "source": [
        "sent_act_list = []\n",
        "for (batch, (inp, targ)) in enumerate(dataset_test):\n",
        "  tmp = targ[0].numpy()\n",
        "  tmp2 = []\n",
        "  sent = ''\n",
        "\n",
        "  for j in range(0,10):\n",
        "    if tmp[j] != 2 and tmp[j] != 0 and tmp[j] != 3:\n",
        "      tmp2.append(tmp[j])\n",
        "  for k in range(0,len(tmp2)):\n",
        "    sent += inp_lang.idx2word[tmp2[k]] + ' '\n",
        "  sent_act_list.append([sent])\n",
        "\n",
        "print(sent_act_list[:2])"
      ],
      "metadata": {
        "colab": {
          "base_uri": "https://localhost:8080/"
        },
        "id": "SM905tNJk1q-",
        "outputId": "f4228163-0570-459c-a139-d6da1b7d1fe1"
      },
      "execution_count": 4,
      "outputs": [
        {
          "output_type": "stream",
          "name": "stdout",
          "text": [
            "[['آریزونا در ۱ میلادی '], ['آتش بازی روی برج ایفل در جشن باستیل ']]\n"
          ]
        }
      ]
    },
    {
      "cell_type": "code",
      "source": [
        "from nltk.translate.bleu_score import sentence_bleu\n",
        "\n",
        "score_list = []\n",
        "for i in range(0,len(sent_act_list)):\n",
        "  score_list.append(sentence_bleu(sent_act_list[i], sent_gen_list[i], weights=(0.25, 0.25, 0.25, 0.25)))\n",
        "\n",
        "print('bleu total is: {:.2f}'.format(np.mean(score_list)))"
      ],
      "metadata": {
        "colab": {
          "base_uri": "https://localhost:8080/"
        },
        "id": "gashO026p6ej",
        "outputId": "d6ff45d1-64b1-4f68-9a9c-0da44dd6b982"
      },
      "execution_count": 10,
      "outputs": [
        {
          "output_type": "stream",
          "name": "stdout",
          "text": [
            "bleu total is: 0.27\n"
          ]
        }
      ]
    }
  ],
  "metadata": {
    "kernelspec": {
      "name": "python3",
      "display_name": "Python 3",
      "language": "python"
    },
    "language_info": {
      "name": "python",
      "version": "3.7.6",
      "mimetype": "text/x-python",
      "codemirror_mode": {
        "name": "ipython",
        "version": 3
      },
      "pygments_lexer": "ipython3",
      "nbconvert_exporter": "python",
      "file_extension": ".py"
    },
    "colab": {
      "provenance": []
    },
    "accelerator": "GPU",
    "gpuClass": "standard"
  },
  "nbformat": 4,
  "nbformat_minor": 0
}